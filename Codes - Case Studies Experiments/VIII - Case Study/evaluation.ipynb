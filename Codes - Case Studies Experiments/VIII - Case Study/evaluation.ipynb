{
  "nbformat": 4,
  "nbformat_minor": 0,
  "metadata": {
    "colab": {
      "name": "evaluation.ipynb",
      "provenance": [],
      "collapsed_sections": []
    },
    "kernelspec": {
      "name": "python3",
      "display_name": "Python 3"
    },
    "language_info": {
      "name": "python"
    }
  },
  "cells": [
    {
      "cell_type": "markdown",
      "metadata": {
        "id": "IxX_FT6G48iO"
      },
      "source": [
        "**COLAB - CASE STUDY - VIII - MathFeature**\n",
        "\n"
      ]
    },
    {
      "cell_type": "code",
      "metadata": {
        "id": "wA_scXx_48Gs"
      },
      "source": [
        "import numpy as np\n",
        "import matplotlib.pyplot as plt\n",
        "import pandas as pd\n",
        "import keras\n",
        "from keras.models import Sequential,Input,Model\n",
        "from keras.layers import Dense, Dropout, Flatten\n",
        "from keras.layers import Conv2D, MaxPooling2D\n",
        "from keras.layers.normalization import BatchNormalization\n",
        "from keras.layers.advanced_activations import LeakyReLU\n",
        "from sklearn.model_selection import train_test_split\n",
        "from sklearn.preprocessing import StandardScaler\n",
        "%matplotlib inline"
      ],
      "execution_count": 23,
      "outputs": []
    },
    {
      "cell_type": "code",
      "metadata": {
        "id": "FlmPUPPB6dTV"
      },
      "source": [
        "dataset = pd.read_csv('dataset.csv')"
      ],
      "execution_count": 24,
      "outputs": []
    },
    {
      "cell_type": "code",
      "metadata": {
        "colab": {
          "base_uri": "https://localhost:8080/"
        },
        "id": "u6V7hO5u6sWU",
        "outputId": "54b0bc86-1b5a-49df-b451-b479266621f0"
      },
      "source": [
        "X = dataset[dataset.columns[1:30]]\n",
        "y = dataset.iloc[:, -1]\n",
        "print(X)\n",
        "print(y)"
      ],
      "execution_count": 25,
      "outputs": [
        {
          "output_type": "stream",
          "text": [
            "       average       median  ...  average_GC_content_ORF  cv_GC_content_ORF\n",
            "0       340.75   189.765694  ...               78.895464           0.000000\n",
            "1      1934.75  1303.793986  ...               40.902296           0.206901\n",
            "2      2085.00  1408.081777  ...               46.859874           0.229168\n",
            "3       894.00   556.618098  ...               51.069546           0.125798\n",
            "4       622.00   402.023195  ...               69.305556           0.000000\n",
            "...        ...          ...  ...                     ...                ...\n",
            "35995  1939.25  1265.557564  ...               45.582886           0.300255\n",
            "35996   493.50   337.349907  ...               24.665552           0.144575\n",
            "35997   532.50   326.608928  ...               33.908107           0.210084\n",
            "35998   935.75   663.834404  ...               41.219070           0.099182\n",
            "35999   798.75   510.009022  ...               39.440837           0.116973\n",
            "\n",
            "[36000 rows x 29 columns]\n",
            "0        0\n",
            "1        0\n",
            "2        0\n",
            "3        0\n",
            "4        0\n",
            "        ..\n",
            "35995    1\n",
            "35996    1\n",
            "35997    1\n",
            "35998    1\n",
            "35999    1\n",
            "Name: label, Length: 36000, dtype: int64\n"
          ],
          "name": "stdout"
        }
      ]
    },
    {
      "cell_type": "code",
      "metadata": {
        "id": "Yc0hRCkY5VLN"
      },
      "source": [
        "trainn_X, test_X, trainn_label, test_labels = train_test_split(X, y, test_size=0.2)"
      ],
      "execution_count": 26,
      "outputs": []
    },
    {
      "cell_type": "code",
      "metadata": {
        "colab": {
          "base_uri": "https://localhost:8080/"
        },
        "id": "X3q6emZL8EHV",
        "outputId": "52efe985-ed19-4520-da04-81b14d00176a"
      },
      "source": [
        "trainn_X\n",
        "test_X\n",
        "trainn_label\n",
        "test_labels"
      ],
      "execution_count": 27,
      "outputs": [
        {
          "output_type": "execute_result",
          "data": {
            "text/plain": [
              "742      0\n",
              "13535    0\n",
              "31766    1\n",
              "1531     0\n",
              "16290    0\n",
              "        ..\n",
              "17955    0\n",
              "28321    1\n",
              "17146    0\n",
              "20316    1\n",
              "12424    0\n",
              "Name: label, Length: 7200, dtype: int64"
            ]
          },
          "metadata": {
            "tags": []
          },
          "execution_count": 27
        }
      ]
    },
    {
      "cell_type": "code",
      "metadata": {
        "id": "_KEbU4cE7NWM"
      },
      "source": [
        "train_X, valid_X, train_label, valid_label = train_test_split(trainn_X, trainn_label, test_size=0.2)"
      ],
      "execution_count": 28,
      "outputs": []
    },
    {
      "cell_type": "code",
      "metadata": {
        "colab": {
          "base_uri": "https://localhost:8080/"
        },
        "id": "dNhKBqjW8LeS",
        "outputId": "14bcffa5-90f7-4241-ae2c-a912b53c1e95"
      },
      "source": [
        "train_X\n",
        "valid_X\n",
        "train_label\n",
        "valid_label"
      ],
      "execution_count": 29,
      "outputs": [
        {
          "output_type": "execute_result",
          "data": {
            "text/plain": [
              "6758     0\n",
              "32545    1\n",
              "10978    0\n",
              "34651    1\n",
              "5020     0\n",
              "        ..\n",
              "11068    0\n",
              "18693    1\n",
              "23676    1\n",
              "25222    1\n",
              "29465    1\n",
              "Name: label, Length: 5760, dtype: int64"
            ]
          },
          "metadata": {
            "tags": []
          },
          "execution_count": 29
        }
      ]
    },
    {
      "cell_type": "code",
      "metadata": {
        "id": "F3z9BdJ-7ydS"
      },
      "source": [
        "sc = StandardScaler()\n",
        "train_X = sc.fit_transform(train_X)\n",
        "valid_X = sc.transform(valid_X)\n",
        "test_X = sc.transform(test_X)"
      ],
      "execution_count": 30,
      "outputs": []
    },
    {
      "cell_type": "code",
      "metadata": {
        "id": "G_4WtGi_5XwP"
      },
      "source": [
        "batch_size = 64\n",
        "epochs = 50\n",
        "num_classes = 2"
      ],
      "execution_count": 31,
      "outputs": []
    },
    {
      "cell_type": "code",
      "metadata": {
        "id": "T1RrwfG29Hn-"
      },
      "source": [
        "model = Sequential()\n",
        "model.add(Dense(15, input_dim=29, activation='relu'))\n",
        "model.add(Dense(8, activation='relu'))\n",
        "model.add(Dense(1, activation='sigmoid'))"
      ],
      "execution_count": 32,
      "outputs": []
    },
    {
      "cell_type": "code",
      "metadata": {
        "id": "OQB83RmFBVyw"
      },
      "source": [
        "model.compile(loss='binary_crossentropy', optimizer='adam', metrics=['accuracy'])"
      ],
      "execution_count": 33,
      "outputs": []
    },
    {
      "cell_type": "code",
      "metadata": {
        "colab": {
          "base_uri": "https://localhost:8080/"
        },
        "id": "YjuXvGmu5pZu",
        "outputId": "f65e9259-d12a-4a02-c6b8-03460526bafb"
      },
      "source": [
        "model.fit(train_X, train_label, batch_size=batch_size, epochs=epochs, verbose=1, validation_data=(valid_X, valid_label))"
      ],
      "execution_count": 34,
      "outputs": [
        {
          "output_type": "stream",
          "text": [
            "Epoch 1/50\n",
            "360/360 [==============================] - 15s 3ms/step - loss: 0.6163 - accuracy: 0.6900 - val_loss: 0.3216 - val_accuracy: 0.9267\n",
            "Epoch 2/50\n",
            "360/360 [==============================] - 1s 2ms/step - loss: 0.2476 - accuracy: 0.9324 - val_loss: 0.1514 - val_accuracy: 0.9491\n",
            "Epoch 3/50\n",
            "360/360 [==============================] - 1s 2ms/step - loss: 0.1448 - accuracy: 0.9491 - val_loss: 0.1265 - val_accuracy: 0.9550\n",
            "Epoch 4/50\n",
            "360/360 [==============================] - 1s 2ms/step - loss: 0.1251 - accuracy: 0.9535 - val_loss: 0.1251 - val_accuracy: 0.9497\n",
            "Epoch 5/50\n",
            "360/360 [==============================] - 1s 2ms/step - loss: 0.1215 - accuracy: 0.9529 - val_loss: 0.1235 - val_accuracy: 0.9528\n",
            "Epoch 6/50\n",
            "360/360 [==============================] - 1s 2ms/step - loss: 0.1198 - accuracy: 0.9536 - val_loss: 0.1165 - val_accuracy: 0.9583\n",
            "Epoch 7/50\n",
            "360/360 [==============================] - 1s 2ms/step - loss: 0.1175 - accuracy: 0.9545 - val_loss: 0.1156 - val_accuracy: 0.9550\n",
            "Epoch 8/50\n",
            "360/360 [==============================] - 1s 2ms/step - loss: 0.1210 - accuracy: 0.9522 - val_loss: 0.1209 - val_accuracy: 0.9578\n",
            "Epoch 9/50\n",
            "360/360 [==============================] - 1s 2ms/step - loss: 0.1236 - accuracy: 0.9505 - val_loss: 0.1150 - val_accuracy: 0.9549\n",
            "Epoch 10/50\n",
            "360/360 [==============================] - 1s 2ms/step - loss: 0.1108 - accuracy: 0.9570 - val_loss: 0.1125 - val_accuracy: 0.9569\n",
            "Epoch 11/50\n",
            "360/360 [==============================] - 1s 2ms/step - loss: 0.1152 - accuracy: 0.9536 - val_loss: 0.1144 - val_accuracy: 0.9563\n",
            "Epoch 12/50\n",
            "360/360 [==============================] - 1s 2ms/step - loss: 0.1167 - accuracy: 0.9519 - val_loss: 0.1139 - val_accuracy: 0.9568\n",
            "Epoch 13/50\n",
            "360/360 [==============================] - 1s 2ms/step - loss: 0.1116 - accuracy: 0.9526 - val_loss: 0.1128 - val_accuracy: 0.9566\n",
            "Epoch 14/50\n",
            "360/360 [==============================] - 1s 2ms/step - loss: 0.1079 - accuracy: 0.9568 - val_loss: 0.1184 - val_accuracy: 0.9568\n",
            "Epoch 15/50\n",
            "360/360 [==============================] - 1s 2ms/step - loss: 0.1119 - accuracy: 0.9555 - val_loss: 0.1114 - val_accuracy: 0.9566\n",
            "Epoch 16/50\n",
            "360/360 [==============================] - 1s 2ms/step - loss: 0.1128 - accuracy: 0.9546 - val_loss: 0.1114 - val_accuracy: 0.9585\n",
            "Epoch 17/50\n",
            "360/360 [==============================] - 1s 2ms/step - loss: 0.1084 - accuracy: 0.9570 - val_loss: 0.1080 - val_accuracy: 0.9578\n",
            "Epoch 18/50\n",
            "360/360 [==============================] - 1s 2ms/step - loss: 0.1083 - accuracy: 0.9553 - val_loss: 0.1088 - val_accuracy: 0.9564\n",
            "Epoch 19/50\n",
            "360/360 [==============================] - 1s 2ms/step - loss: 0.1130 - accuracy: 0.9533 - val_loss: 0.1103 - val_accuracy: 0.9606\n",
            "Epoch 20/50\n",
            "360/360 [==============================] - 1s 2ms/step - loss: 0.1123 - accuracy: 0.9558 - val_loss: 0.1090 - val_accuracy: 0.9587\n",
            "Epoch 21/50\n",
            "360/360 [==============================] - 1s 2ms/step - loss: 0.1126 - accuracy: 0.9551 - val_loss: 0.1058 - val_accuracy: 0.9597\n",
            "Epoch 22/50\n",
            "360/360 [==============================] - 1s 2ms/step - loss: 0.1118 - accuracy: 0.9551 - val_loss: 0.1090 - val_accuracy: 0.9547\n",
            "Epoch 23/50\n",
            "360/360 [==============================] - 1s 2ms/step - loss: 0.1065 - accuracy: 0.9559 - val_loss: 0.1118 - val_accuracy: 0.9547\n",
            "Epoch 24/50\n",
            "360/360 [==============================] - 1s 2ms/step - loss: 0.1109 - accuracy: 0.9539 - val_loss: 0.1050 - val_accuracy: 0.9594\n",
            "Epoch 25/50\n",
            "360/360 [==============================] - 1s 2ms/step - loss: 0.1081 - accuracy: 0.9556 - val_loss: 0.1055 - val_accuracy: 0.9576\n",
            "Epoch 26/50\n",
            "360/360 [==============================] - 1s 2ms/step - loss: 0.1051 - accuracy: 0.9590 - val_loss: 0.1040 - val_accuracy: 0.9599\n",
            "Epoch 27/50\n",
            "360/360 [==============================] - 1s 2ms/step - loss: 0.1052 - accuracy: 0.9561 - val_loss: 0.1043 - val_accuracy: 0.9611\n",
            "Epoch 28/50\n",
            "360/360 [==============================] - 1s 2ms/step - loss: 0.1028 - accuracy: 0.9596 - val_loss: 0.1132 - val_accuracy: 0.9524\n",
            "Epoch 29/50\n",
            "360/360 [==============================] - 1s 2ms/step - loss: 0.1039 - accuracy: 0.9580 - val_loss: 0.1040 - val_accuracy: 0.9597\n",
            "Epoch 30/50\n",
            "360/360 [==============================] - 1s 2ms/step - loss: 0.1056 - accuracy: 0.9575 - val_loss: 0.1049 - val_accuracy: 0.9597\n",
            "Epoch 31/50\n",
            "360/360 [==============================] - 1s 2ms/step - loss: 0.1034 - accuracy: 0.9580 - val_loss: 0.1020 - val_accuracy: 0.9627\n",
            "Epoch 32/50\n",
            "360/360 [==============================] - 1s 2ms/step - loss: 0.1060 - accuracy: 0.9581 - val_loss: 0.1041 - val_accuracy: 0.9576\n",
            "Epoch 33/50\n",
            "360/360 [==============================] - 1s 2ms/step - loss: 0.1069 - accuracy: 0.9563 - val_loss: 0.1093 - val_accuracy: 0.9557\n",
            "Epoch 34/50\n",
            "360/360 [==============================] - 1s 2ms/step - loss: 0.1109 - accuracy: 0.9557 - val_loss: 0.1080 - val_accuracy: 0.9623\n",
            "Epoch 35/50\n",
            "360/360 [==============================] - 1s 2ms/step - loss: 0.1026 - accuracy: 0.9580 - val_loss: 0.1028 - val_accuracy: 0.9587\n",
            "Epoch 36/50\n",
            "360/360 [==============================] - 1s 2ms/step - loss: 0.1030 - accuracy: 0.9597 - val_loss: 0.1024 - val_accuracy: 0.9615\n",
            "Epoch 37/50\n",
            "360/360 [==============================] - 1s 2ms/step - loss: 0.1043 - accuracy: 0.9558 - val_loss: 0.1076 - val_accuracy: 0.9595\n",
            "Epoch 38/50\n",
            "360/360 [==============================] - 1s 2ms/step - loss: 0.1065 - accuracy: 0.9561 - val_loss: 0.1157 - val_accuracy: 0.9531\n",
            "Epoch 39/50\n",
            "360/360 [==============================] - 1s 2ms/step - loss: 0.1055 - accuracy: 0.9591 - val_loss: 0.1036 - val_accuracy: 0.9571\n",
            "Epoch 40/50\n",
            "360/360 [==============================] - 1s 2ms/step - loss: 0.1036 - accuracy: 0.9564 - val_loss: 0.1028 - val_accuracy: 0.9597\n",
            "Epoch 41/50\n",
            "360/360 [==============================] - 1s 2ms/step - loss: 0.1054 - accuracy: 0.9556 - val_loss: 0.1033 - val_accuracy: 0.9613\n",
            "Epoch 42/50\n",
            "360/360 [==============================] - 1s 2ms/step - loss: 0.1036 - accuracy: 0.9577 - val_loss: 0.1005 - val_accuracy: 0.9616\n",
            "Epoch 43/50\n",
            "360/360 [==============================] - 1s 2ms/step - loss: 0.1082 - accuracy: 0.9558 - val_loss: 0.1012 - val_accuracy: 0.9611\n",
            "Epoch 44/50\n",
            "360/360 [==============================] - 1s 2ms/step - loss: 0.0992 - accuracy: 0.9594 - val_loss: 0.1004 - val_accuracy: 0.9615\n",
            "Epoch 45/50\n",
            "360/360 [==============================] - 1s 2ms/step - loss: 0.1037 - accuracy: 0.9577 - val_loss: 0.0998 - val_accuracy: 0.9616\n",
            "Epoch 46/50\n",
            "360/360 [==============================] - 1s 2ms/step - loss: 0.1044 - accuracy: 0.9564 - val_loss: 0.1007 - val_accuracy: 0.9609\n",
            "Epoch 47/50\n",
            "360/360 [==============================] - 1s 2ms/step - loss: 0.1014 - accuracy: 0.9586 - val_loss: 0.0999 - val_accuracy: 0.9609\n",
            "Epoch 48/50\n",
            "360/360 [==============================] - 1s 2ms/step - loss: 0.0996 - accuracy: 0.9586 - val_loss: 0.0993 - val_accuracy: 0.9625\n",
            "Epoch 49/50\n",
            "360/360 [==============================] - 1s 2ms/step - loss: 0.1008 - accuracy: 0.9593 - val_loss: 0.0996 - val_accuracy: 0.9615\n",
            "Epoch 50/50\n",
            "360/360 [==============================] - 1s 2ms/step - loss: 0.1022 - accuracy: 0.9589 - val_loss: 0.1072 - val_accuracy: 0.9616\n"
          ],
          "name": "stdout"
        },
        {
          "output_type": "execute_result",
          "data": {
            "text/plain": [
              "<keras.callbacks.History at 0x7f2c95d39fd0>"
            ]
          },
          "metadata": {
            "tags": []
          },
          "execution_count": 34
        }
      ]
    },
    {
      "cell_type": "code",
      "metadata": {
        "id": "SqkJRc6s-n_a",
        "colab": {
          "base_uri": "https://localhost:8080/"
        },
        "outputId": "77985754-2370-4167-fd0a-a17e1830e105"
      },
      "source": [
        "from sklearn.metrics import roc_auc_score\n",
        "from sklearn.model_selection import cross_val_predict\n",
        "from imblearn.metrics import geometric_mean_score\n",
        "from sklearn.metrics import balanced_accuracy_score\n",
        "from sklearn.metrics import multilabel_confusion_matrix\n",
        "from sklearn.model_selection import KFold\n",
        "from sklearn.metrics import balanced_accuracy_score\n",
        "from sklearn.metrics import cohen_kappa_score\n",
        "from sklearn.metrics import confusion_matrix\n",
        "from sklearn.metrics import hamming_loss\n",
        "from sklearn import metrics\n",
        "from sklearn.metrics import f1_score\n",
        "from sklearn.metrics import precision_score\n",
        "from sklearn.metrics import recall_score\n",
        "from sklearn.metrics import matthews_corrcoef\n",
        "from sklearn.metrics import cohen_kappa_score, make_scorer\n",
        "from imblearn.metrics import geometric_mean_score\n",
        "from sklearn.metrics import accuracy_score"
      ],
      "execution_count": 35,
      "outputs": [
        {
          "output_type": "stream",
          "text": [
            "/usr/local/lib/python3.7/dist-packages/sklearn/externals/six.py:31: FutureWarning: The module is deprecated in version 0.21 and will be removed in version 0.23 since we've dropped support for Python 2.7. Please rely on the official version of six (https://pypi.org/project/six/).\n",
            "  \"(https://pypi.org/project/six/).\", FutureWarning)\n",
            "/usr/local/lib/python3.7/dist-packages/sklearn/utils/deprecation.py:144: FutureWarning: The sklearn.neighbors.base module is  deprecated in version 0.22 and will be removed in version 0.24. The corresponding classes / functions should instead be imported from sklearn.neighbors. Anything that cannot be imported from sklearn.neighbors is now part of the private API.\n",
            "  warnings.warn(message, FutureWarning)\n",
            "/usr/local/lib/python3.7/dist-packages/sklearn/utils/deprecation.py:144: FutureWarning: The sklearn.metrics.classification module is  deprecated in version 0.22 and will be removed in version 0.24. The corresponding classes / functions should instead be imported from sklearn.metrics. Anything that cannot be imported from sklearn.metrics is now part of the private API.\n",
            "  warnings.warn(message, FutureWarning)\n"
          ],
          "name": "stderr"
        }
      ]
    },
    {
      "cell_type": "code",
      "metadata": {
        "colab": {
          "base_uri": "https://localhost:8080/"
        },
        "id": "i3CWJv5X5p0j",
        "outputId": "9d94cf93-1a12-44e8-eeb3-4f3e67b97f5c"
      },
      "source": [
        "preds = model.predict_classes(test_X)\n",
        "accu = accuracy_score(test_labels, preds)\n",
        "recall = recall_score(test_labels, preds)\n",
        "f1 = f1_score(test_labels, preds)\n",
        "balanced = balanced_accuracy_score(test_labels, preds)\n",
        "gmean = geometric_mean_score(test_labels, preds)\n",
        "mcc = matthews_corrcoef(test_labels, preds)\n",
        "# matriz = (pd.crosstab(test_labels, preds, rownames=[\"REAL\"], colnames=[\"PREDITO\"], margins=True))\n",
        "print(\"Predições %s\" % (preds))\n",
        "print(\"Acurácia Teste: %s\" % (accu))\n",
        "print(\"Recall: %s\" % (recall))\n",
        "print(\"F1: %s\" % (f1))\n",
        "print(\"balanced: %s\" % (balanced))\n",
        "print(\"gmean: %s\" % (gmean))\n",
        "print(\"MCC: %s\" % (mcc))\n",
        "# print(\"%s\" % (matriz))"
      ],
      "execution_count": 36,
      "outputs": [
        {
          "output_type": "stream",
          "text": [
            "/usr/local/lib/python3.7/dist-packages/keras/engine/sequential.py:450: UserWarning: `model.predict_classes()` is deprecated and will be removed after 2021-01-01. Please use instead:* `np.argmax(model.predict(x), axis=-1)`,   if your model does multi-class classification   (e.g. if it uses a `softmax` last-layer activation).* `(model.predict(x) > 0.5).astype(\"int32\")`,   if your model does binary classification   (e.g. if it uses a `sigmoid` last-layer activation).\n",
            "  warnings.warn('`model.predict_classes()` is deprecated and '\n"
          ],
          "name": "stderr"
        },
        {
          "output_type": "stream",
          "text": [
            "Predições [[0]\n",
            " [1]\n",
            " [1]\n",
            " ...\n",
            " [0]\n",
            " [1]\n",
            " [0]]\n",
            "Acurácia Teste: 0.9640277777777778\n",
            "Recall: 0.9879009566685425\n",
            "F1: 0.9644279631918692\n",
            "balanced: 0.9643289753172664\n",
            "gmean: 0.964040836443988\n",
            "MCC: 0.9291604959600724\n"
          ],
          "name": "stdout"
        },
        {
          "output_type": "stream",
          "text": [
            "/usr/local/lib/python3.7/dist-packages/sklearn/preprocessing/_label.py:268: DataConversionWarning: A column-vector y was passed when a 1d array was expected. Please change the shape of y to (n_samples, ), for example using ravel().\n",
            "  y = column_or_1d(y, warn=True)\n"
          ],
          "name": "stderr"
        }
      ]
    }
  ]
}